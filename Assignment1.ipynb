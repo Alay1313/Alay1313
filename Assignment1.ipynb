{
  "nbformat": 4,
  "nbformat_minor": 0,
  "metadata": {
    "colab": {
      "provenance": [],
      "collapsed_sections": [],
      "toc_visible": true,
      "authorship_tag": "ABX9TyPGIZ3Iffg5uwe8+zjxfLzQ",
      "include_colab_link": true
    },
    "kernelspec": {
      "name": "python3",
      "display_name": "Python 3"
    },
    "language_info": {
      "name": "python"
    }
  },
  "cells": [
    {
      "cell_type": "markdown",
      "metadata": {
        "id": "view-in-github",
        "colab_type": "text"
      },
      "source": [
        "<a href=\"https://colab.research.google.com/github/Alay1313/Alay1313/blob/main/Assignment1.ipynb\" target=\"_parent\"><img src=\"https://colab.research.google.com/assets/colab-badge.svg\" alt=\"Open In Colab\"/></a>"
      ]
    },
    {
      "cell_type": "markdown",
      "source": [
        "# New Section"
      ],
      "metadata": {
        "id": "9havamn_PgN7"
      }
    },
    {
      "cell_type": "code",
      "source": [
        "import random\n",
        "def order(list1):\n",
        "    list_out = []\n",
        "    l = len(list1)\n",
        "    \n",
        "    while l!=0:\n",
        "        index = random.randint(0,l-1)\n",
        "        list_out.append(list1[index])\n",
        "        list1.pop(index)\n",
        "        \n",
        "        l-=1\n",
        "   \n",
        "    return list_out\n",
        "\n",
        "list1 = ['team1','team2','team3','team4','team5','team6','team7','team8','team9','team10']\n",
        "print(order(list1))"
      ],
      "metadata": {
        "colab": {
          "base_uri": "https://localhost:8080/"
        },
        "id": "5hGOvmurPnjP",
        "outputId": "80d1c682-d361-45ca-cb92-92bcfd9fd5b8"
      },
      "execution_count": 11,
      "outputs": [
        {
          "output_type": "stream",
          "name": "stdout",
          "text": [
            "['team9', 'team3', 'team2', 'team4', 'team6', 'team5', 'team8', 'team7', 'team10', 'team1']\n"
          ]
        }
      ]
    }
  ]
}